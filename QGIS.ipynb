{
 "cells": [
  {
   "cell_type": "code",
   "execution_count": null,
   "metadata": {},
   "outputs": [],
   "source": [
    "from qgis.PyQt.QtWidgets import QDialog, QVBoxLayout, QCheckBox, QPushButton, QApplication # type: ignore\n",
    "\n",
    "class LayerControlDialog(QDialog):\n",
    "    def __init__(self):\n",
    "        super(LayerControlDialog, self).__init__()\n",
    "        \n",
    "        #box name\n",
    "        self.setWindowTitle(\"Layer Visibility Control\")\n",
    "        layout = QVBoxLayout(self)\n",
    "        \n",
    "        #add checboxes for each layer\n",
    "        self.layer_checkboxes = {}\n",
    "        layers = [layer for layer in QGsProject.instance().mapLayers().values()]\n",
    "\n",
    "        #create checboxes\n",
    "        for layer in layers:\n",
    "            cb = QCheckBox(layer.name())\n",
    "            cb.setChecked(layer.isVisible())\n",
    "            cb.stateChanged.connect(lambda state, layer=layer: self.toggle_layer_visibility(layer, state))\n",
    "            layout.addWidget(cb)\n",
    "            self.layer_checkboxes[layer.name()] = cb\n",
    "\n",
    "        #confirm button\n",
    "        confirm_button = QPushButton('Confirm')\n",
    "        confirm_button.clicked.connect(self.on_confirm)\n",
    "        layout.addWidget(confirm_button)\n",
    "\n",
    "    def toggle_layer_visibility(self, layer, state):\n",
    "        layer.setVisbile(state)\n",
    "\n",
    "    def on_confirm(self):\n",
    "        for layer_name, checkbox in self.layer_checkboxes.items():\n",
    "            state = 'selected' if checkbox.isChecked() else 'not selected'\n",
    "            print(f'layer {layer_name} is {state}')\n",
    "\n",
    "def show_dialogue():\n",
    "    app = QApplicaiton([])\n",
    "    dialogue = LayerControlDialog()\n",
    "    dialogue.exec_()\n",
    "\n",
    "show_dialogue()"
   ]
  }
 ],
 "metadata": {
  "language_info": {
   "name": "python"
  }
 },
 "nbformat": 4,
 "nbformat_minor": 2
}
