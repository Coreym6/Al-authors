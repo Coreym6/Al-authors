{
 "cells": [
  {
   "cell_type": "code",
   "execution_count": 1,
   "metadata": {},
   "outputs": [],
   "source": [
    "import matplotlib.pyplot as plt\n",
    "import geopandas\n",
    "from shapely.geometry import box\n",
    "import geodatasets"
   ]
  },
  {
   "cell_type": "code",
   "execution_count": 4,
   "metadata": {},
   "outputs": [],
   "source": [
    "chicago = geopandas.read_file(geodatasets.get_path(\"geoda.chicago_commpop\"))\n",
    "groceries = geopandas.read_file(geodatasets.get_path(\"geoda.groceries\")).to_crs(chicago.crs)\n",
    "\n",
    "# Create a subset of the chicago data that is just the South American continent\n",
    "near_west_side = chicago[chicago[\"community\"] == \"NEAR WEST SIDE\"]\n",
    "\n",
    "# Create a custom polygon\n",
    "polygon = box(-87.8, 41.90, -87.5, 42)\n",
    "poly_gdf = geopandas.GeoDataFrame([1], geometry=[polygon], crs=chicago.crs)"
   ]
  },
  {
   "cell_type": "code",
   "execution_count": null,
   "metadata": {},
   "outputs": [],
   "source": [
    "fig, (ax1, ax2) = plt.subplots(2, 1, figsize=(12, 8))\n",
    "chicago.plot(ax=ax1)\n",
    "poly_gdf.boundary.plot(ax=ax1, color=\"red\")\n",
    "near_west_side.boundary.plot(ax=ax2, color=\"green\")\n",
    "groceries.plot(ax=ax2, color=\"purple\")\n",
    "ax1.set_title(\"All Unclipped Chicago Communities\", fontsize=20)\n",
    "ax2.set_title(\"All Unclipped Groceries\", fontsize=20)\n",
    "ax1.set_axis_off()\n",
    "ax2.set_axis_off()\n",
    "plt.show()\n"
   ]
  }
 ],
 "metadata": {
  "kernelspec": {
   "display_name": "ALAuthors",
   "language": "python",
   "name": "python3"
  },
  "language_info": {
   "codemirror_mode": {
    "name": "ipython",
    "version": 3
   },
   "file_extension": ".py",
   "mimetype": "text/x-python",
   "name": "python",
   "nbconvert_exporter": "python",
   "pygments_lexer": "ipython3",
   "version": "3.11.7"
  },
  "orig_nbformat": 4
 },
 "nbformat": 4,
 "nbformat_minor": 2
}
